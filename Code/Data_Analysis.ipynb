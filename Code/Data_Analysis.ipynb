{
 "cells": [
  {
   "cell_type": "code",
   "execution_count": 1,
   "metadata": {},
   "outputs": [],
   "source": [
    "# Import necessary libraries.\n",
    "\n",
    "import pandas as pd\n",
    "import numpy as np\n",
    "from scipy import stats\n",
    "import matplotlib.pyplot as plt\n",
    "import seaborn as sns"
   ]
  },
  {
   "cell_type": "code",
   "execution_count": 5,
   "metadata": {},
   "outputs": [],
   "source": [
    "# Load the dataset\n",
    "\n",
    "df = pd.read_csv('techsavvy_ab_test_data.csv')\n",
    "\n"
   ]
  },
  {
   "cell_type": "code",
   "execution_count": 13,
   "metadata": {},
   "outputs": [
    {
     "data": {
      "text/html": [
       "<div>\n",
       "<style scoped>\n",
       "    .dataframe tbody tr th:only-of-type {\n",
       "        vertical-align: middle;\n",
       "    }\n",
       "\n",
       "    .dataframe tbody tr th {\n",
       "        vertical-align: top;\n",
       "    }\n",
       "\n",
       "    .dataframe thead th {\n",
       "        text-align: right;\n",
       "    }\n",
       "</style>\n",
       "<table border=\"1\" class=\"dataframe\">\n",
       "  <thead>\n",
       "    <tr style=\"text-align: right;\">\n",
       "      <th></th>\n",
       "      <th>user_id</th>\n",
       "      <th>group</th>\n",
       "      <th>timestamp</th>\n",
       "      <th>clicked_add_to_cart</th>\n",
       "      <th>session_duration</th>\n",
       "    </tr>\n",
       "  </thead>\n",
       "  <tbody>\n",
       "    <tr>\n",
       "      <th>0</th>\n",
       "      <td>1</td>\n",
       "      <td>A</td>\n",
       "      <td>7/1/2024 0:00</td>\n",
       "      <td>0</td>\n",
       "      <td>66</td>\n",
       "    </tr>\n",
       "    <tr>\n",
       "      <th>1</th>\n",
       "      <td>2</td>\n",
       "      <td>B</td>\n",
       "      <td>7/1/2024 0:01</td>\n",
       "      <td>0</td>\n",
       "      <td>54</td>\n",
       "    </tr>\n",
       "    <tr>\n",
       "      <th>2</th>\n",
       "      <td>3</td>\n",
       "      <td>A</td>\n",
       "      <td>7/1/2024 0:02</td>\n",
       "      <td>0</td>\n",
       "      <td>41</td>\n",
       "    </tr>\n",
       "    <tr>\n",
       "      <th>3</th>\n",
       "      <td>4</td>\n",
       "      <td>A</td>\n",
       "      <td>7/1/2024 0:03</td>\n",
       "      <td>0</td>\n",
       "      <td>51</td>\n",
       "    </tr>\n",
       "    <tr>\n",
       "      <th>4</th>\n",
       "      <td>5</td>\n",
       "      <td>A</td>\n",
       "      <td>7/1/2024 0:04</td>\n",
       "      <td>0</td>\n",
       "      <td>44</td>\n",
       "    </tr>\n",
       "  </tbody>\n",
       "</table>\n",
       "</div>"
      ],
      "text/plain": [
       "   user_id group      timestamp  clicked_add_to_cart  session_duration\n",
       "0        1     A  7/1/2024 0:00                    0                66\n",
       "1        2     B  7/1/2024 0:01                    0                54\n",
       "2        3     A  7/1/2024 0:02                    0                41\n",
       "3        4     A  7/1/2024 0:03                    0                51\n",
       "4        5     A  7/1/2024 0:04                    0                44"
      ]
     },
     "execution_count": 13,
     "metadata": {},
     "output_type": "execute_result"
    }
   ],
   "source": [
    "# Display the first few rows of the dataframe to ensure it's loaded correctly\n",
    "df.head(5)"
   ]
  },
  {
   "cell_type": "code",
   "execution_count": 14,
   "metadata": {},
   "outputs": [
    {
     "data": {
      "text/html": [
       "<div>\n",
       "<style scoped>\n",
       "    .dataframe tbody tr th:only-of-type {\n",
       "        vertical-align: middle;\n",
       "    }\n",
       "\n",
       "    .dataframe tbody tr th {\n",
       "        vertical-align: top;\n",
       "    }\n",
       "\n",
       "    .dataframe thead th {\n",
       "        text-align: right;\n",
       "    }\n",
       "</style>\n",
       "<table border=\"1\" class=\"dataframe\">\n",
       "  <thead>\n",
       "    <tr style=\"text-align: right;\">\n",
       "      <th></th>\n",
       "      <th>user_id</th>\n",
       "      <th>group</th>\n",
       "      <th>timestamp</th>\n",
       "      <th>clicked_add_to_cart</th>\n",
       "      <th>session_duration</th>\n",
       "    </tr>\n",
       "  </thead>\n",
       "  <tbody>\n",
       "    <tr>\n",
       "      <th>9995</th>\n",
       "      <td>9996</td>\n",
       "      <td>B</td>\n",
       "      <td>7/7/2024 22:35</td>\n",
       "      <td>0</td>\n",
       "      <td>45</td>\n",
       "    </tr>\n",
       "    <tr>\n",
       "      <th>9996</th>\n",
       "      <td>9997</td>\n",
       "      <td>A</td>\n",
       "      <td>7/7/2024 22:36</td>\n",
       "      <td>0</td>\n",
       "      <td>45</td>\n",
       "    </tr>\n",
       "    <tr>\n",
       "      <th>9997</th>\n",
       "      <td>9998</td>\n",
       "      <td>B</td>\n",
       "      <td>7/7/2024 22:37</td>\n",
       "      <td>0</td>\n",
       "      <td>55</td>\n",
       "    </tr>\n",
       "    <tr>\n",
       "      <th>9998</th>\n",
       "      <td>9999</td>\n",
       "      <td>B</td>\n",
       "      <td>7/7/2024 22:38</td>\n",
       "      <td>0</td>\n",
       "      <td>67</td>\n",
       "    </tr>\n",
       "    <tr>\n",
       "      <th>9999</th>\n",
       "      <td>10000</td>\n",
       "      <td>A</td>\n",
       "      <td>7/7/2024 22:39</td>\n",
       "      <td>0</td>\n",
       "      <td>64</td>\n",
       "    </tr>\n",
       "  </tbody>\n",
       "</table>\n",
       "</div>"
      ],
      "text/plain": [
       "      user_id group       timestamp  clicked_add_to_cart  session_duration\n",
       "9995     9996     B  7/7/2024 22:35                    0                45\n",
       "9996     9997     A  7/7/2024 22:36                    0                45\n",
       "9997     9998     B  7/7/2024 22:37                    0                55\n",
       "9998     9999     B  7/7/2024 22:38                    0                67\n",
       "9999    10000     A  7/7/2024 22:39                    0                64"
      ]
     },
     "execution_count": 14,
     "metadata": {},
     "output_type": "execute_result"
    }
   ],
   "source": [
    "# Display the last few rows of the dataframe to ensure it's loaded correctly\n",
    "df.tail(5)"
   ]
  },
  {
   "cell_type": "code",
   "execution_count": 8,
   "metadata": {},
   "outputs": [
    {
     "name": "stdout",
     "output_type": "stream",
     "text": [
      "Conversion Rate A: 0.10\n",
      "Conversion Rate B: 0.12\n"
     ]
    }
   ],
   "source": [
    "# 1. Calculate Conversion Rates.\n",
    "\n",
    "# A/B Testing: Comparing two versions of a webpage to determine which one performs better.\n",
    "# Group A: Control group with the original version.\n",
    "# Group B: Treatment group with the modified version.\n",
    "\n",
    "\n",
    "# Conversion Rate: The percentage of users who click the \"Add to Cart\" button\n",
    "\n",
    "conversion_A = df[df['group'] == 'A']['clicked_add_to_cart'].mean()\n",
    "conversion_B = df[df['group'] == 'B']['clicked_add_to_cart'].mean()\n",
    "\n",
    "print(f\"Conversion Rate A: {conversion_A:.2f}\")\n",
    "print(f\"Conversion Rate B: {conversion_B:.2f}\")\n"
   ]
  },
  {
   "cell_type": "code",
   "execution_count": 9,
   "metadata": {},
   "outputs": [
    {
     "name": "stdout",
     "output_type": "stream",
     "text": [
      "T-Statistic: -2.41\n",
      "P-Value (t-test): 0.0159\n"
     ]
    }
   ],
   "source": [
    "# 2. Perform Statistical Tests.\n",
    "\n",
    "# T-Test: A statistical test to determine if there are significant differences between the means of two groups.\n",
    "# Null Hypothesis: There is no difference in conversion rates between Group A and Group B.\n",
    "# Alternative Hypothesis: There is a difference in conversion rates between Group A and Group B.\n",
    "\n",
    "# Perform t-test\n",
    "t_stat, p_value_ttest = stats.ttest_ind(\n",
    "    df[df['group'] == 'A']['clicked_add_to_cart'],\n",
    "    df[df['group'] == 'B']['clicked_add_to_cart']\n",
    ")\n",
    "\n",
    "print(f\"T-Statistic: {t_stat:.2f}\")\n",
    "print(f\"P-Value (t-test): {p_value_ttest:.4f}\")\n"
   ]
  },
  {
   "cell_type": "code",
   "execution_count": 10,
   "metadata": {},
   "outputs": [
    {
     "name": "stdout",
     "output_type": "stream",
     "text": [
      "Chi-Square Statistic: 5.66\n",
      "P-Value (chi-square): 0.0173\n"
     ]
    }
   ],
   "source": [
    "# Perform chi-square test\n",
    "\n",
    "# Chi-Square Test: A statistical test to determine if there is a significant association between two categorical variables.\n",
    "# Null Hypothesis: There is no association between the group and the clicked \"Add to Cart\" button.\n",
    "# Alternative Hypothesis: There is an association between the group and the clicked \"Add to Cart\" button.\n",
    "\n",
    "contingency_table = pd.crosstab(df['group'], df['clicked_add_to_cart'])\n",
    "chi2_stat, p_value_chi2, _, _ = stats.chi2_contingency(contingency_table)\n",
    "\n",
    "print(f\"Chi-Square Statistic: {chi2_stat:.2f}\")\n",
    "print(f\"P-Value (chi-square): {p_value_chi2:.4f}\")\n"
   ]
  },
  {
   "cell_type": "code",
   "execution_count": 11,
   "metadata": {},
   "outputs": [
    {
     "name": "stderr",
     "output_type": "stream",
     "text": [
      "/tmp/ipykernel_40517/3551270136.py:11: FutureWarning: \n",
      "\n",
      "The `ci` parameter is deprecated. Use `errorbar=None` for the same effect.\n",
      "\n",
      "  sns.barplot(x='group', y='clicked_add_to_cart', data=df, ci=None)\n"
     ]
    },
    {
     "data": {
      "image/png": "[encoded data removed]",
      "text/plain": [
       "<Figure size 1200x600 with 2 Axes>"
      ]
     },
     "metadata": {},
     "output_type": "display_data"
    }
   ],
   "source": [
    "# 3. Visualize the Findings.\n",
    "\n",
    "# Visualization\n",
    "plt.figure(figsize=(12, 6))\n",
    "\n",
    "# Bar plot of conversion rates by group.\n",
    "# Conversion Rate: The percentage of users who click the \"Add to Cart\" button.\n",
    "\n",
    "# Conversion rates\n",
    "plt.subplot(1, 2, 1)\n",
    "sns.barplot(x='group', y='clicked_add_to_cart', data=df, ci=None)\n",
    "plt.title('Conversion Rate by Group')\n",
    "plt.xlabel('Group')\n",
    "plt.ylabel('Conversion Rate')\n",
    "\n",
    "# Box plot of session durations by group.\n",
    "# Session Duration: The length of time a user spends on the product page.\n",
    "\n",
    "# Session durations\n",
    "plt.subplot(1, 2, 2)\n",
    "sns.boxplot(x='group', y='session_duration', data=df)\n",
    "plt.title('Session Duration by Group')\n",
    "plt.xlabel('Group')\n",
    "plt.ylabel('Session Duration (seconds)')\n",
    "\n",
    "plt.tight_layout()\n",
    "plt.show()\n"
   ]
  },
  {
   "cell_type": "code",
   "execution_count": 12,
   "metadata": {},
   "outputs": [
    {
     "name": "stdout",
     "output_type": "stream",
     "text": [
      "Reject the null hypothesis. The button color change has a significant effect on user engagement.\n"
     ]
    }
   ],
   "source": [
    "# 4. Draw Conclusions.\n",
    "\n",
    "# Conclusion\n",
    "\n",
    "# Alpha: The significance level (typically set to 0.05).\n",
    "# P-Value: The probability that the observed results are due to chance.\n",
    "\n",
    "alpha = 0.05\n",
    "if p_value_ttest < alpha and p_value_chi2 < alpha:\n",
    "    print(\"Reject the null hypothesis. The button color change has a significant effect on user engagement.\")\n",
    "else:\n",
    "    print(\"Fail to reject the null hypothesis. The button color change does not have a significant effect on user engagement.\")\n"
   ]
  }
 ],
 "metadata": {
  "kernelspec": {
   "display_name": "Python 3",
   "language": "python",
   "name": "python3"
  },
  "language_info": {
   "codemirror_mode": {
    "name": "ipython",
    "version": 3
   },
   "file_extension": ".py",
   "mimetype": "text/x-python",
   "name": "python",
   "nbconvert_exporter": "python",
   "pygments_lexer": "ipython3",
   "version": "3.10.13"
  }
 },
 "nbformat": 4,
 "nbformat_minor": 2
}
