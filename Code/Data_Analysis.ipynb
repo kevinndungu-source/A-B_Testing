{
 "cells": [
  {
   "cell_type": "code",
   "execution_count": 1,
   "metadata": {},
   "outputs": [],
   "source": [
    "# Import necessary libraries.\n",
    "\n",
    "import pandas as pd\n",
    "import numpy as np\n",
    "from scipy import stats\n",
    "import matplotlib.pyplot as plt\n",
    "import seaborn as sns"
   ]
  },
  {
   "cell_type": "code",
   "execution_count": 5,
   "metadata": {},
   "outputs": [],
   "source": [
    "# Load the dataset\n",
    "\n",
    "df = pd.read_csv('techsavvy_ab_test_data.csv')\n",
    "\n"
   ]
  },
  {
   "cell_type": "code",
   "execution_count": null,
   "metadata": {},
   "outputs": [],
   "source": [
    "# Display the first few rows of the dataframe to ensure it's loaded correctly\n",
    "df.head(5)"
   ]
  },
  {
   "cell_type": "code",
   "execution_count": null,
   "metadata": {},
   "outputs": [],
   "source": [
    "# 1. Calculate Conversion Rates.\n",
    "\n",
    "# A/B Testing: Comparing two versions of a webpage to determine which one performs better.\n",
    "# Group A: Control group with the original version.\n",
    "# Group B: Treatment group with the modified version.\n",
    "\n",
    "\n",
    "# Conversion Rate: The percentage of users who click the \"Add to Cart\" button\n",
    "\n",
    "conversion_A = df[df['group'] == 'A']['clicked_add_to_cart'].mean()\n",
    "conversion_B = df[df['group'] == 'B']['clicked_add_to_cart'].mean()\n",
    "\n",
    "print(f\"Conversion Rate A: {conversion_A:.2f}\")\n",
    "print(f\"Conversion Rate B: {conversion_B:.2f}\")\n"
   ]
  },
  {
   "cell_type": "code",
   "execution_count": null,
   "metadata": {},
   "outputs": [],
   "source": [
    "# 2. Perform Statistical Tests.\n",
    "\n",
    "# T-Test: A statistical test to determine if there are significant differences between the means of two groups.\n",
    "# Null Hypothesis: There is no difference in conversion rates between Group A and Group B.\n",
    "# Alternative Hypothesis: There is a difference in conversion rates between Group A and Group B.\n",
    "\n",
    "# Perform t-test\n",
    "t_stat, p_value_ttest = stats.ttest_ind(\n",
    "    df[df['group'] == 'A']['clicked_add_to_cart'],\n",
    "    df[df['group'] == 'B']['clicked_add_to_cart']\n",
    ")\n",
    "\n",
    "print(f\"T-Statistic: {t_stat:.2f}\")\n",
    "print(f\"P-Value (t-test): {p_value_ttest:.4f}\")\n"
   ]
  },
  {
   "cell_type": "code",
   "execution_count": null,
   "metadata": {},
   "outputs": [],
   "source": [
    "# Perform chi-square test\n",
    "\n",
    "# Chi-Square Test: A statistical test to determine if there is a significant association between two categorical variables.\n",
    "# Null Hypothesis: There is no association between the group and the clicked \"Add to Cart\" button.\n",
    "# Alternative Hypothesis: There is an association between the group and the clicked \"Add to Cart\" button.\n",
    "\n",
    "contingency_table = pd.crosstab(df['group'], df['clicked_add_to_cart'])\n",
    "chi2_stat, p_value_chi2, _, _ = stats.chi2_contingency(contingency_table)\n",
    "\n",
    "print(f\"Chi-Square Statistic: {chi2_stat:.2f}\")\n",
    "print(f\"P-Value (chi-square): {p_value_chi2:.4f}\")\n"
   ]
  },
  {
   "cell_type": "code",
   "execution_count": null,
   "metadata": {},
   "outputs": [],
   "source": [
    "# 3. Visualize the Findings.\n",
    "\n",
    "# Visualization\n",
    "plt.figure(figsize=(12, 6))\n",
    "\n",
    "# Bar plot of conversion rates by group.\n",
    "# Conversion Rate: The percentage of users who click the \"Add to Cart\" button.\n",
    "\n",
    "# Conversion rates\n",
    "plt.subplot(1, 2, 1)\n",
    "sns.barplot(x='group', y='clicked_add_to_cart', data=df, ci=None)\n",
    "plt.title('Conversion Rate by Group')\n",
    "plt.xlabel('Group')\n",
    "plt.ylabel('Conversion Rate')\n",
    "\n",
    "# Box plot of session durations by group.\n",
    "# Session Duration: The length of time a user spends on the product page.\n",
    "\n",
    "# Session durations\n",
    "plt.subplot(1, 2, 2)\n",
    "sns.boxplot(x='group', y='session_duration', data=df)\n",
    "plt.title('Session Duration by Group')\n",
    "plt.xlabel('Group')\n",
    "plt.ylabel('Session Duration (seconds)')\n",
    "\n",
    "plt.tight_layout()\n",
    "plt.show()\n"
   ]
  },
  {
   "cell_type": "code",
   "execution_count": null,
   "metadata": {},
   "outputs": [],
   "source": [
    "# 4. Draw Conclusions.\n",
    "\n",
    "# Conclusion\n",
    "\n",
    "# Alpha: The significance level (typically set to 0.05).\n",
    "# P-Value: The probability that the observed results are due to chance.\n",
    "\n",
    "alpha = 0.05\n",
    "if p_value_ttest < alpha and p_value_chi2 < alpha:\n",
    "    print(\"Reject the null hypothesis. The button color change has a significant effect on user engagement.\")\n",
    "else:\n",
    "    print(\"Fail to reject the null hypothesis. The button color change does not have a significant effect on user engagement.\")\n"
   ]
  }
 ],
 "metadata": {
  "kernelspec": {
   "display_name": "Python 3",
   "language": "python",
   "name": "python3"
  },
  "language_info": {
   "codemirror_mode": {
    "name": "ipython",
    "version": 3
   },
   "file_extension": ".py",
   "mimetype": "text/x-python",
   "name": "python",
   "nbconvert_exporter": "python",
   "pygments_lexer": "ipython3",
   "version": "3.10.13"
  }
 },
 "nbformat": 4,
 "nbformat_minor": 2
}
