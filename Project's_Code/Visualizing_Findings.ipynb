{
 "cells": [
  {
   "cell_type": "code",
   "execution_count": null,
   "metadata": {},
   "outputs": [],
   "source": [
    "# Visualization\n",
    "plt.figure(figsize=(12, 6))\n",
    "\n",
    "# Conversion rates\n",
    "plt.subplot(1, 2, 1)\n",
    "sns.barplot(x='group', y='clicked_add_to_cart', data=df, ci=None)\n",
    "plt.title('Conversion Rate by Group')\n",
    "plt.xlabel('Group')\n",
    "plt.ylabel('Conversion Rate')\n",
    "\n",
    "# Session durations\n",
    "plt.subplot(1, 2, 2)\n",
    "sns.boxplot(x='group', y='session_duration', data=df)\n",
    "plt.title('Session Duration by Group')\n",
    "plt.xlabel('Group')\n",
    "plt.ylabel('Session Duration (seconds)')\n",
    "\n",
    "plt.tight_layout()\n",
    "plt.show()"
   ]
  }
 ],
 "metadata": {
  "language_info": {
   "name": "python"
  }
 },
 "nbformat": 4,
 "nbformat_minor": 2
}
