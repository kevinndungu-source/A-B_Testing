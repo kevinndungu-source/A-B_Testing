{
 "cells": [
  {
   "cell_type": "code",
   "execution_count": null,
   "metadata": {},
   "outputs": [],
   "source": [
    "# Calculate conversion rates\n",
    "conversion_A = df[df['group'] == 'A']['clicked_add_to_cart'].mean()\n",
    "conversion_B = df[df['group'] == 'B']['clicked_add_to_cart'].mean()\n"
   ]
  },
  {
   "cell_type": "code",
   "execution_count": null,
   "metadata": {},
   "outputs": [],
   "source": [
    "# Perform t-test\n",
    "t_stat, p_value_ttest = stats.ttest_ind(\n",
    "    df[df['group'] == 'A']['clicked_add_to_cart'],\n",
    "    df[df['group'] == 'B']['clicked_add_to_cart']\n",
    ")"
   ]
  },
  {
   "cell_type": "code",
   "execution_count": null,
   "metadata": {},
   "outputs": [],
   "source": [
    "# Perform chi-square test\n",
    "contingency_table = pd.crosstab(df['group'], df['clicked_add_to_cart'])\n",
    "chi2_stat, p_value_chi2, _, _ = stats.chi2_contingency(contingency_table)\n",
    "\n",
    "\n",
    "print(f\"Conversion Rate A: {conversion_A:.2f}\")\n",
    "print(f\"Conversion Rate B: {conversion_B:.2f}\")\n",
    "print(f\"T-Statistic: {t_stat:.2f}\")\n",
    "print(f\"P-Value (t-test): {p_value_ttest:.4f}\")\n",
    "print(f\"Chi-Square Statistic: {chi2_stat:.2f}\")\n",
    "print(f\"P-Value (chi-square): {p_value_chi2:.4f}\")"
   ]
  }
 ],
 "metadata": {
  "language_info": {
   "name": "python"
  }
 },
 "nbformat": 4,
 "nbformat_minor": 2
}
