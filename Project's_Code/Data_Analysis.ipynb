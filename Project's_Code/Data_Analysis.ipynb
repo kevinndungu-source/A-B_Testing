{
 "cells": [
  {
   "cell_type": "code",
   "execution_count": null,
   "metadata": {},
   "outputs": [],
   "source": [
    "# Import necessary libraries.\n",
    "\n",
    "import pandas as pd\n",
    "import numpy as np\n",
    "from scipy import stats\n",
    "import matplotlib.pyplot as plt\n",
    "import seaborn as sns"
   ]
  },
  {
   "cell_type": "code",
   "execution_count": null,
   "metadata": {},
   "outputs": [],
   "source": [
    "# Load the dataset\n",
    "\n",
    "df = pd.read_csv('Data/techsavvy_ab_test_data.csv')\n",
    "\n",
    "# Display the first few rows of the dataframe to ensure it's loaded correctly\n",
    "df.head()"
   ]
  },
  {
   "cell_type": "code",
   "execution_count": null,
   "metadata": {},
   "outputs": [],
   "source": [
    "# 1. Calculate Conversion Rates.\n",
    "\n",
    "conversion_A = df[df['group'] == 'A']['clicked_add_to_cart'].mean()\n",
    "conversion_B = df[df['group'] == 'B']['clicked_add_to_cart'].mean()\n",
    "\n",
    "print(f\"Conversion Rate A: {conversion_A:.2f}\")\n",
    "print(f\"Conversion Rate B: {conversion_B:.2f}\")\n"
   ]
  },
  {
   "cell_type": "code",
   "execution_count": null,
   "metadata": {},
   "outputs": [],
   "source": [
    "# 2. Perform Statistical Tests.\n",
    "\n",
    "# Perform t-test\n",
    "t_stat, p_value_ttest = stats.ttest_ind(\n",
    "    df[df['group'] == 'A']['clicked_add_to_cart'],\n",
    "    df[df['group'] == 'B']['clicked_add_to_cart']\n",
    ")\n",
    "\n",
    "print(f\"T-Statistic: {t_stat:.2f}\")\n",
    "print(f\"P-Value (t-test): {p_value_ttest:.4f}\")\n"
   ]
  },
  {
   "cell_type": "code",
   "execution_count": null,
   "metadata": {},
   "outputs": [],
   "source": [
    "# Perform chi-square test\n",
    "contingency_table = pd.crosstab(df['group'], df['clicked_add_to_cart'])\n",
    "chi2_stat, p_value_chi2, _, _ = stats.chi2_contingency(contingency_table)\n",
    "\n",
    "print(f\"Chi-Square Statistic: {chi2_stat:.2f}\")\n",
    "print(f\"P-Value (chi-square): {p_value_chi2:.4f}\")\n"
   ]
  },
  {
   "cell_type": "code",
   "execution_count": null,
   "metadata": {},
   "outputs": [],
   "source": [
    "# 3. Visualize the Findings.\n",
    "\n",
    "# Visualization\n",
    "plt.figure(figsize=(12, 6))\n",
    "\n",
    "# Conversion rates\n",
    "plt.subplot(1, 2, 1)\n",
    "sns.barplot(x='group', y='clicked_add_to_cart', data=df, ci=None)\n",
    "plt.title('Conversion Rate by Group')\n",
    "plt.xlabel('Group')\n",
    "plt.ylabel('Conversion Rate')\n",
    "\n",
    "# Session durations\n",
    "plt.subplot(1, 2, 2)\n",
    "sns.boxplot(x='group', y='session_duration', data=df)\n",
    "plt.title('Session Duration by Group')\n",
    "plt.xlabel('Group')\n",
    "plt.ylabel('Session Duration (seconds)')\n",
    "\n",
    "plt.tight_layout()\n",
    "plt.show()\n"
   ]
  },
  {
   "cell_type": "code",
   "execution_count": null,
   "metadata": {},
   "outputs": [],
   "source": [
    "# 4. Draw Conclusions.\n",
    "\n",
    "# Conclusion\n",
    "alpha = 0.05\n",
    "if p_value_ttest < alpha and p_value_chi2 < alpha:\n",
    "    print(\"Reject the null hypothesis. The button color change has a significant effect on user engagement.\")\n",
    "else:\n",
    "    print(\"Fail to reject the null hypothesis. The button color change does not have a significant effect on user engagement.\")\n"
   ]
  }
 ],
 "metadata": {
  "language_info": {
   "name": "python"
  }
 },
 "nbformat": 4,
 "nbformat_minor": 2
}
