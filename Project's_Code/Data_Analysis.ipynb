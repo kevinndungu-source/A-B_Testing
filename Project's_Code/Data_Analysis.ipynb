{
 "cells": [
  {
   "cell_type": "code",
   "execution_count": null,
   "metadata": {},
   "outputs": [],
   "source": [
    "# Calculate conversion rates\n",
    "conversion_A = df[df['group'] == 'A']['clicked_add_to_cart'].mean()\n",
    "conversion_B = df[df['group'] == 'B']['clicked_add_to_cart'].mean()\n",
    "\n",
    "# Perform t-test\n",
    "t_stat, p_value_ttest = stats.ttest_ind(\n",
    "    df[df['group'] == 'A']['clicked_add_to_cart'],\n",
    "    df[df['group'] == 'B']['clicked_add_to_cart']\n",
    ")\n",
    "\n",
    "# Perform chi-square test\n",
    "contingency_table = pd.crosstab(df['group'], df['clicked_add_to_cart'])\n",
    "chi2_stat, p_value_chi2, _, _ = stats.chi2_contingency(contingency_table)\n",
    "\n",
    "print(f\"Conversion Rate A: {conversion_A:.2f}\")\n",
    "print(f\"Conversion Rate B: {conversion_B:.2f}\")\n",
    "print(f\"T-Statistic: {t_stat:.2f}\")\n",
    "print(f\"P-Value (t-test): {p_value_ttest:.4f}\")\n",
    "print(f\"Chi-Square Statistic: {chi2_stat:.2f}\")\n",
    "print(f\"P-Value (chi-square): {p_value_chi2:.4f}\")"
   ]
  },
  {
   "cell_type": "code",
   "execution_count": null,
   "metadata": {},
   "outputs": [],
   "source": [
    "# Visualization\n",
    "plt.figure(figsize=(12, 6))\n",
    "\n",
    "# Conversion rates\n",
    "plt.subplot(1, 2, 1)\n",
    "sns.barplot(x='group', y='clicked_add_to_cart', data=df, ci=None)\n",
    "plt.title('Conversion Rate by Group')\n",
    "plt.xlabel('Group')\n",
    "plt.ylabel('Conversion Rate')\n",
    "\n",
    "# Session durations\n",
    "plt.subplot(1, 2, 2)\n",
    "sns.boxplot(x='group', y='session_duration', data=df)\n",
    "plt.title('Session Duration by Group')\n",
    "plt.xlabel('Group')\n",
    "plt.ylabel('Session Duration (seconds)')\n",
    "\n",
    "plt.tight_layout()\n",
    "plt.show()"
   ]
  },
  {
   "cell_type": "code",
   "execution_count": null,
   "metadata": {},
   "outputs": [],
   "source": [
    "# Conclusion\n",
    "alpha = 0.05\n",
    "if p_value_ttest < alpha and p_value_chi2 < alpha:\n",
    "    print(\"Reject the null hypothesis. The button color change has a significant effect on user engagement.\")\n",
    "else:\n",
    "    print(\"Fail to reject the null hypothesis. The button color change does not have a significant effect on user engagement.\")"
   ]
  }
 ],
 "metadata": {
  "language_info": {
   "name": "python"
  }
 },
 "nbformat": 4,
 "nbformat_minor": 2
}
